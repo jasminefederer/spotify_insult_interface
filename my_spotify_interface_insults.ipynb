{
 "cells": [
  {
   "cell_type": "code",
   "execution_count": 1,
   "id": "d2595b54",
   "metadata": {},
   "outputs": [],
   "source": [
    "import spotipy\n",
    "import webbrowser\n",
    "import json\n",
    "import urllib.request\n",
    "import geocoder\n",
    "from nltk.corpus import stopwords\n",
    "import spotipy.util as util\n",
    "import random"
   ]
  },
  {
   "cell_type": "code",
   "execution_count": 2,
   "id": "782f3631",
   "metadata": {},
   "outputs": [],
   "source": [
    "# copy and paste the url into your browser to see what data you are getting back\n",
    "request = urllib.request.Request(\"https://quandyfactory.com/insult/json\")\n",
    "response = urllib.request.urlopen(request)"
   ]
  },
  {
   "cell_type": "code",
   "execution_count": 3,
   "id": "a31a884e",
   "metadata": {},
   "outputs": [
    {
     "data": {
      "text/plain": [
       "http.client.HTTPResponse"
      ]
     },
     "execution_count": 3,
     "metadata": {},
     "output_type": "execute_result"
    }
   ],
   "source": [
    "#checking the type of my response\n",
    "type(response)"
   ]
  },
  {
   "cell_type": "code",
   "execution_count": 4,
   "id": "7fc7fdff",
   "metadata": {},
   "outputs": [],
   "source": [
    "# converting this HTTPresponse into its own dictionary\n",
    "insults = json.loads(response.read())"
   ]
  },
  {
   "cell_type": "code",
   "execution_count": 5,
   "id": "bddcdd31",
   "metadata": {},
   "outputs": [
    {
     "data": {
      "text/plain": [
       "{'insult': 'Thou art a Wayward, Dog-hearted Huggermugger.',\n",
       " 'source': 'The Elizabethan Insult Generator',\n",
       " 'sourceUrl': 'http://www.museangel.net/insult.html#generator'}"
      ]
     },
     "execution_count": 5,
     "metadata": {},
     "output_type": "execute_result"
    }
   ],
   "source": [
    "insults"
   ]
  },
  {
   "cell_type": "code",
   "execution_count": 6,
   "id": "9e5bb30d",
   "metadata": {},
   "outputs": [],
   "source": [
    "# extracting the keys from the json file that we want to use as our prompt to create spotify playlist\n",
    "insult = insults['insult']"
   ]
  },
  {
   "cell_type": "code",
   "execution_count": 7,
   "id": "4c5804d8",
   "metadata": {},
   "outputs": [
    {
     "name": "stdout",
     "output_type": "stream",
     "text": [
      "Thou\n",
      "art\n",
      "a\n",
      "Wayward,\n",
      "Dog-hearted\n",
      "Huggermugger.\n"
     ]
    }
   ],
   "source": [
    "# I want to go through each word of each title\n",
    "for word in insult.split(\" \"):\n",
    "    print(word)\n",
    "    # .split(\" \"): will prevent python from merely printing each character"
   ]
  },
  {
   "cell_type": "code",
   "execution_count": 8,
   "id": "85ebd5c7",
   "metadata": {},
   "outputs": [],
   "source": [
    "list_of_words = insults['insult'].split(\" \")"
   ]
  },
  {
   "cell_type": "code",
   "execution_count": 9,
   "id": "2a718bcf",
   "metadata": {},
   "outputs": [
    {
     "name": "stdout",
     "output_type": "stream",
     "text": [
      "['Thou', 'art', 'a', 'Wayward,', 'Dog-hearted', 'Huggermugger.']\n"
     ]
    }
   ],
   "source": [
    "print(list_of_words)\n",
    "# these are what I want to effectively have as each song of my playlist to spell the insult through an acrostic"
   ]
  },
  {
   "cell_type": "code",
   "execution_count": 10,
   "id": "962a258f",
   "metadata": {},
   "outputs": [],
   "source": [
    "# open file with keys and set the path to your credentials JSON file\n",
    "credentials = \"spotify_keys.json\"\n",
    "with open(credentials, \"r\") as keys:\n",
    "    api_tokens = json.load(keys)"
   ]
  },
  {
   "cell_type": "code",
   "execution_count": 11,
   "id": "cdd5abdf",
   "metadata": {},
   "outputs": [],
   "source": [
    "# read the keys and assign each to a variable\n",
    "# A redirect URI, or reply URL, is the location where the authorization server sends the user once the app has been \n",
    "# successfully authorized and granted an authorization code or access token.\n",
    "client_id = api_tokens[\"client_id\"]\n",
    "client_secret = api_tokens[\"client_secret\"]\n",
    "redirectURI = api_tokens[\"redirect\"]\n",
    "username = api_tokens[\"username\"]"
   ]
  },
  {
   "cell_type": "code",
   "execution_count": 12,
   "id": "5ca349e5",
   "metadata": {},
   "outputs": [],
   "source": [
    "# scope is requesting special permissions to make playlist from spotify\n",
    "scope = 'user-read-private user-read-playback-state user-modify-playback-state playlist-modify-private user-library-read playlist-read-private app-remote-control'\n",
    "token = util.prompt_for_user_token(username, scope, client_id=client_id,client_secret=client_secret,redirect_uri=redirectURI)"
   ]
  },
  {
   "cell_type": "code",
   "execution_count": 13,
   "id": "8dbec8b3",
   "metadata": {},
   "outputs": [],
   "source": [
    "# create spotify object\n",
    "# this is how we will interact with our api\n",
    "sp = spotipy.Spotify(auth=token)"
   ]
  },
  {
   "cell_type": "code",
   "execution_count": 18,
   "id": "3b30626d",
   "metadata": {},
   "outputs": [],
   "source": [
    "songs = []\n",
    "for search_term in list_of_words:\n",
    "    search_results = sp.search(q=\"track:\" + search_term, type=\"track\")\n",
    "    if len(search_results['tracks']['items']) > 0:\n",
    "        first_song = search_results['tracks']['items'][0]\n",
    "        songs.append(first_song['uri'])"
   ]
  },
  {
   "cell_type": "code",
   "execution_count": 19,
   "id": "18bde22a",
   "metadata": {},
   "outputs": [
    {
     "name": "stdout",
     "output_type": "stream",
     "text": [
      "{'snapshot_id': 'Myw1NDk4Mzg5MTc2NjgwNGFlMGVlOTU2OWE0NTUyYmEwMTE4OWRjY2I0'}\n"
     ]
    }
   ],
   "source": [
    "my_playlist = sp.user_playlist_create(user=username, name=\"insult from an elizabethan\", public=False,\n",
    "                                      description=\"spotify playlist made with elizabethan insult api\")\n",
    "results = sp.user_playlist_add_tracks(username, my_playlist['id'], songs)\n",
    "print(results)"
   ]
  },
  {
   "cell_type": "code",
   "execution_count": 20,
   "id": "5278ad55",
   "metadata": {},
   "outputs": [
    {
     "data": {
      "text/plain": [
       "True"
      ]
     },
     "execution_count": 20,
     "metadata": {},
     "output_type": "execute_result"
    }
   ],
   "source": [
    "webbrowser.open(my_playlist['external_urls']['spotify'])"
   ]
  },
  {
   "cell_type": "code",
   "execution_count": null,
   "id": "1a6b8984",
   "metadata": {},
   "outputs": [],
   "source": []
  }
 ],
 "metadata": {
  "kernelspec": {
   "display_name": "Python 3 (ipykernel)",
   "language": "python",
   "name": "python3"
  },
  "language_info": {
   "codemirror_mode": {
    "name": "ipython",
    "version": 3
   },
   "file_extension": ".py",
   "mimetype": "text/x-python",
   "name": "python",
   "nbconvert_exporter": "python",
   "pygments_lexer": "ipython3",
   "version": "3.11.0"
  }
 },
 "nbformat": 4,
 "nbformat_minor": 5
}
