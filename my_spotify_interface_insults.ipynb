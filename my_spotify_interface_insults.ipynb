{
 "cells": [
  {
   "cell_type": "code",
   "execution_count": 34,
   "id": "906affda",
   "metadata": {},
   "outputs": [],
   "source": [
    "import spotipy\n",
    "import webbrowser\n",
    "import json\n",
    "import urllib.request\n",
    "import geocoder\n",
    "from nltk.corpus import stopwords\n",
    "import spotipy.util as util\n",
    "import random"
   ]
  },
  {
   "cell_type": "code",
   "execution_count": 35,
   "id": "7777cf26",
   "metadata": {},
   "outputs": [],
   "source": [
    "# copy and paste the url into your browser to see what data you are getting back\n",
    "request = urllib.request.Request(\"https://quandyfactory.com/insult/json\")\n",
    "response = urllib.request.urlopen(request)"
   ]
  },
  {
   "cell_type": "code",
   "execution_count": 36,
   "id": "bcb4aa54",
   "metadata": {},
   "outputs": [
    {
     "data": {
      "text/plain": [
       "http.client.HTTPResponse"
      ]
     },
     "execution_count": 36,
     "metadata": {},
     "output_type": "execute_result"
    }
   ],
   "source": [
    "#checking the type of my response\n",
    "type(response)"
   ]
  },
  {
   "cell_type": "code",
   "execution_count": 37,
   "id": "a7b2cede",
   "metadata": {},
   "outputs": [],
   "source": [
    "# converting this HTTPresponse into its own dictionary\n",
    "insults = json.loads(response.read())"
   ]
  },
  {
   "cell_type": "code",
   "execution_count": 38,
   "id": "6e627d6b",
   "metadata": {},
   "outputs": [
    {
     "data": {
      "text/plain": [
       "{'insult': 'Thou art a Yeasty, Onion-eyed Apple-john.',\n",
       " 'source': 'The Elizabethan Insult Generator',\n",
       " 'sourceUrl': 'http://www.museangel.net/insult.html#generator'}"
      ]
     },
     "execution_count": 38,
     "metadata": {},
     "output_type": "execute_result"
    }
   ],
   "source": [
    "insults"
   ]
  },
  {
   "cell_type": "code",
   "execution_count": 39,
   "id": "4724ea50",
   "metadata": {},
   "outputs": [],
   "source": [
    "# extracting the keys from the json file that we want to use as our prompt to create spotify playlist\n",
    "insult = insults['insult']"
   ]
  },
  {
   "cell_type": "code",
   "execution_count": 40,
   "id": "b7ccc707",
   "metadata": {},
   "outputs": [
    {
     "data": {
      "text/plain": [
       "'Thou art a Yeasty, Onion-eyed Apple-john.'"
      ]
     },
     "execution_count": 40,
     "metadata": {},
     "output_type": "execute_result"
    }
   ],
   "source": [
    "insult"
   ]
  },
  {
   "cell_type": "code",
   "execution_count": 41,
   "id": "cd1f9ae2",
   "metadata": {},
   "outputs": [],
   "source": [
    "# open file with keys and set the path to your credentials JSON file\n",
    "credentials = \"spotify_keys.json\"\n",
    "with open(credentials, \"r\") as keys:\n",
    "    api_tokens = json.load(keys)"
   ]
  },
  {
   "cell_type": "code",
   "execution_count": 42,
   "id": "a52ae44d",
   "metadata": {},
   "outputs": [],
   "source": [
    "# read the keys and assign each to a variable\n",
    "# A redirect URI, or reply URL, is the location where the authorization server sends the user once the app has been \n",
    "# successfully authorized and granted an authorization code or access token.\n",
    "client_id = api_tokens[\"client_id\"]\n",
    "client_secret = api_tokens[\"client_secret\"]\n",
    "redirectURI = api_tokens[\"redirect\"]\n",
    "username = api_tokens[\"username\"]"
   ]
  },
  {
   "cell_type": "code",
   "execution_count": 43,
   "id": "4c05fe17",
   "metadata": {},
   "outputs": [
    {
     "name": "stdout",
     "output_type": "stream",
     "text": [
      "Enter the URL you were redirected to: https://www.google.com/?code=AQCwzjH1Ogxb0ohcTF-Ru9nwC6absgFYhGTzKWw5Wg_YthhpHLp8N4ukpLYuyOQ-AL7OC6KnOa_AD4bMxgP5b4kQOgYffEsqyydEtgFu9q6getsr1raHpGKekI4rbJQnJeRfq1PQA9yxe1j-T_iVmo0t-KtbD2GxIAX3RRC7jcsXEBJmzaz90uH-A8_p-1epubLLNzalCJJYTEUJ2bXsdCxKhWVve0nckWnQ5LmACnUA88zluhDA5wvaXCtd2Kpw2J1Ly1Rn5-2yAOeBiTAn6a-tc9J_NzPwGLTctQ\n"
     ]
    }
   ],
   "source": [
    "scope = 'user-read-private user-read-playback-state user-modify-playback-state playlist-modify-public'\n",
    "token = util.prompt_for_user_token(username, scope, client_id=client_id,\n",
    "                           client_secret=client_secret,\n",
    "                           redirect_uri=redirectURI)"
   ]
  },
  {
   "cell_type": "code",
   "execution_count": null,
   "id": "da214a34",
   "metadata": {},
   "outputs": [],
   "source": []
  }
 ],
 "metadata": {
  "kernelspec": {
   "display_name": "Python 3 (ipykernel)",
   "language": "python",
   "name": "python3"
  },
  "language_info": {
   "codemirror_mode": {
    "name": "ipython",
    "version": 3
   },
   "file_extension": ".py",
   "mimetype": "text/x-python",
   "name": "python",
   "nbconvert_exporter": "python",
   "pygments_lexer": "ipython3",
   "version": "3.11.0"
  }
 },
 "nbformat": 4,
 "nbformat_minor": 5
}
